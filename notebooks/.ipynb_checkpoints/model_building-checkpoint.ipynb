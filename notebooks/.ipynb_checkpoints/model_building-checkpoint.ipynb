{
 "cells": [
  {
   "cell_type": "markdown",
   "metadata": {},
   "source": [
    "Build a regression model."
   ]
  },
  {
   "cell_type": "code",
   "execution_count": 18,
   "metadata": {},
   "outputs": [
    {
     "name": "stdout",
     "output_type": "stream",
     "text": [
      "                            OLS Regression Results                            \n",
      "==============================================================================\n",
      "Dep. Variable:             free_bikes   R-squared:                       0.193\n",
      "Model:                            OLS   Adj. R-squared:                  0.183\n",
      "Method:                 Least Squares   F-statistic:                     19.60\n",
      "Date:                Sun, 17 Dec 2023   Prob (F-statistic):           1.47e-20\n",
      "Time:                        22:40:16   Log-Likelihood:                -1960.7\n",
      "No. Observations:                 500   AIC:                             3935.\n",
      "Df Residuals:                     493   BIC:                             3965.\n",
      "Df Model:                           6                                         \n",
      "Covariance Type:            nonrobust                                         \n",
      "===================================================================================================\n",
      "                                      coef    std err          t      P>|t|      [0.025      0.975]\n",
      "---------------------------------------------------------------------------------------------------\n",
      "const                           -3386.9017   1540.622     -2.198      0.028   -6413.897    -359.906\n",
      "number_of_public_transportation     0.2431      0.059      4.088      0.000       0.126       0.360\n",
      "number_of_chinese_restaurants       0.2345      0.067      3.524      0.000       0.104       0.365\n",
      "number_of_sport_recreation          0.0395      0.052      0.755      0.451      -0.063       0.142\n",
      "empty_slots                        -0.3304      0.043     -7.655      0.000      -0.415      -0.246\n",
      "latitude                           20.5941     14.618      1.409      0.160      -8.127      49.315\n",
      "longitude                         -34.5929     17.055     -2.028      0.043     -68.102      -1.084\n",
      "==============================================================================\n",
      "Omnibus:                      181.744   Durbin-Watson:                   1.863\n",
      "Prob(Omnibus):                  0.000   Jarque-Bera (JB):              625.936\n",
      "Skew:                           1.684   Prob(JB):                    1.20e-136\n",
      "Kurtosis:                       7.325   Cond. No.                     2.76e+05\n",
      "==============================================================================\n",
      "\n",
      "Notes:\n",
      "[1] Standard Errors assume that the covariance matrix of the errors is correctly specified.\n",
      "[2] The condition number is large, 2.76e+05. This might indicate that there are\n",
      "strong multicollinearity or other numerical problems.\n"
     ]
    }
   ],
   "source": [
    "import numpy as np\n",
    "import pandas as pd\n",
    "# first let's get the dataframe \n",
    "merged_df=pd.read_csv('C:/Users/Emran Mohammed/Downloads/full_data.csv')\n",
    "#now we have got a clean data named merged data, let's start building the model\n",
    "import statsmodels.api as sm\n",
    "y=merged_df['free_bikes'] # we are predicting number of total bikes in the given station am using \n",
    "X=merged_df[['number_of_public_transportation', 'number_of_chinese_restaurants', 'number_of_sport_recreation', 'empty_slots', 'latitude', 'longitude']]\n",
    "X = sm.add_constant(X) # adding a constant\n",
    "model = sm.OLS(y,X)\n",
    "result = model.fit()\n",
    "print(result.summary())"
   ]
  },
  {
   "cell_type": "markdown",
   "metadata": {},
   "source": [
    "Provide model output and an interpretation of the results. "
   ]
  },
  {
   "cell_type": "code",
   "execution_count": 19,
   "metadata": {
    "tags": []
   },
   "outputs": [
    {
     "name": "stdout",
     "output_type": "stream",
     "text": [
      "                            OLS Regression Results                            \n",
      "==============================================================================\n",
      "Dep. Variable:             free_bikes   R-squared:                       0.192\n",
      "Model:                            OLS   Adj. R-squared:                  0.183\n",
      "Method:                 Least Squares   F-statistic:                     23.43\n",
      "Date:                Sun, 17 Dec 2023   Prob (F-statistic):           3.78e-21\n",
      "Time:                        22:40:57   Log-Likelihood:                -1961.0\n",
      "No. Observations:                 500   AIC:                             3934.\n",
      "Df Residuals:                     494   BIC:                             3959.\n",
      "Df Model:                           5                                         \n",
      "Covariance Type:            nonrobust                                         \n",
      "===================================================================================================\n",
      "                                      coef    std err          t      P>|t|      [0.025      0.975]\n",
      "---------------------------------------------------------------------------------------------------\n",
      "const                           -3309.0001   1536.493     -2.154      0.032   -6327.866    -290.134\n",
      "number_of_public_transportation     0.2507      0.059      4.280      0.000       0.136       0.366\n",
      "number_of_chinese_restaurants       0.2466      0.065      3.820      0.000       0.120       0.373\n",
      "empty_slots                        -0.3274      0.043     -7.621      0.000      -0.412      -0.243\n",
      "latitude                           20.3289     14.607      1.392      0.165      -8.371      49.029\n",
      "longitude                         -33.7022     17.006     -1.982      0.048     -67.116      -0.288\n",
      "==============================================================================\n",
      "Omnibus:                      184.022   Durbin-Watson:                   1.862\n",
      "Prob(Omnibus):                  0.000   Jarque-Bera (JB):              646.225\n",
      "Skew:                           1.698   Prob(JB):                    4.72e-141\n",
      "Kurtosis:                       7.414   Cond. No.                     2.50e+05\n",
      "==============================================================================\n",
      "\n",
      "Notes:\n",
      "[1] Standard Errors assume that the covariance matrix of the errors is correctly specified.\n",
      "[2] The condition number is large, 2.5e+05. This might indicate that there are\n",
      "strong multicollinearity or other numerical problems.\n"
     ]
    }
   ],
   "source": [
    "# as we can see that the p value for number_of_sport_recreation is greater than 0.05 which means we will accept the null hypothesis as they have no correlation\n",
    "# so, we need to construct a new model by removing the column number_of_sport_recreation\n",
    "y=merged_df['free_bikes'] # we are predicting number of total bikes in the given station am using \n",
    "X=merged_df[['number_of_public_transportation', 'number_of_chinese_restaurants', 'empty_slots', 'latitude', 'longitude']]\n",
    "X = sm.add_constant(X) # adding a constant\n",
    "model = sm.OLS(y,X)\n",
    "result = model.fit()\n",
    "print(result.summary())"
   ]
  },
  {
   "cell_type": "code",
   "execution_count": 20,
   "metadata": {
    "tags": []
   },
   "outputs": [
    {
     "name": "stdout",
     "output_type": "stream",
     "text": [
      "                            OLS Regression Results                            \n",
      "==============================================================================\n",
      "Dep. Variable:             free_bikes   R-squared:                       0.189\n",
      "Model:                            OLS   Adj. R-squared:                  0.182\n",
      "Method:                 Least Squares   F-statistic:                     28.75\n",
      "Date:                Sun, 17 Dec 2023   Prob (F-statistic):           1.69e-21\n",
      "Time:                        22:44:06   Log-Likelihood:                -1962.0\n",
      "No. Observations:                 500   AIC:                             3934.\n",
      "Df Residuals:                     495   BIC:                             3955.\n",
      "Df Model:                           4                                         \n",
      "Covariance Type:            nonrobust                                         \n",
      "===================================================================================================\n",
      "                                      coef    std err          t      P>|t|      [0.025      0.975]\n",
      "---------------------------------------------------------------------------------------------------\n",
      "const                           -1984.1554   1207.194     -1.644      0.101   -4356.011     387.700\n",
      "number_of_public_transportation     0.2621      0.058      4.515      0.000       0.148       0.376\n",
      "number_of_chinese_restaurants       0.2467      0.065      3.817      0.000       0.120       0.374\n",
      "empty_slots                        -0.3233      0.043     -7.536      0.000      -0.408      -0.239\n",
      "longitude                         -26.9821     16.322     -1.653      0.099     -59.051       5.087\n",
      "==============================================================================\n",
      "Omnibus:                      182.295   Durbin-Watson:                   1.865\n",
      "Prob(Omnibus):                  0.000   Jarque-Bera (JB):              629.649\n",
      "Skew:                           1.688   Prob(JB):                    1.88e-137\n",
      "Kurtosis:                       7.338   Cond. No.                     1.75e+05\n",
      "==============================================================================\n",
      "\n",
      "Notes:\n",
      "[1] Standard Errors assume that the covariance matrix of the errors is correctly specified.\n",
      "[2] The condition number is large, 1.75e+05. This might indicate that there are\n",
      "strong multicollinearity or other numerical problems.\n"
     ]
    }
   ],
   "source": [
    "# as we can see that the p value for latitude is greater than 0.05 which means we will accept the null hypothesis as they have no correlation\n",
    "# so, we need to construct a new model by removing the column latitude\n",
    "y=merged_df['free_bikes'] # we are predicting number of total bikes in the given station am using \n",
    "X=merged_df[['number_of_public_transportation', 'number_of_chinese_restaurants', 'empty_slots', 'longitude']]\n",
    "X = sm.add_constant(X) # adding a constant\n",
    "model = sm.OLS(y,X)\n",
    "result = model.fit()\n",
    "print(result.summary())"
   ]
  },
  {
   "cell_type": "code",
   "execution_count": 21,
   "metadata": {
    "tags": []
   },
   "outputs": [
    {
     "name": "stdout",
     "output_type": "stream",
     "text": [
      "                            OLS Regression Results                            \n",
      "==============================================================================\n",
      "Dep. Variable:             free_bikes   R-squared:                       0.184\n",
      "Model:                            OLS   Adj. R-squared:                  0.179\n",
      "Method:                 Least Squares   F-statistic:                     37.29\n",
      "Date:                Sun, 17 Dec 2023   Prob (F-statistic):           9.61e-22\n",
      "Time:                        22:46:20   Log-Likelihood:                -1963.4\n",
      "No. Observations:                 500   AIC:                             3935.\n",
      "Df Residuals:                     496   BIC:                             3952.\n",
      "Df Model:                           3                                         \n",
      "Covariance Type:            nonrobust                                         \n",
      "===================================================================================================\n",
      "                                      coef    std err          t      P>|t|      [0.025      0.975]\n",
      "---------------------------------------------------------------------------------------------------\n",
      "const                              11.4871      1.111     10.341      0.000       9.305      13.670\n",
      "number_of_public_transportation     0.2741      0.058      4.749      0.000       0.161       0.387\n",
      "number_of_chinese_restaurants       0.2554      0.065      3.958      0.000       0.129       0.382\n",
      "empty_slots                        -0.3277      0.043     -7.641      0.000      -0.412      -0.243\n",
      "==============================================================================\n",
      "Omnibus:                      186.918   Durbin-Watson:                   1.859\n",
      "Prob(Omnibus):                  0.000   Jarque-Bera (JB):              663.268\n",
      "Skew:                           1.724   Prob(JB):                    9.40e-145\n",
      "Kurtosis:                       7.466   Cond. No.                         68.1\n",
      "==============================================================================\n",
      "\n",
      "Notes:\n",
      "[1] Standard Errors assume that the covariance matrix of the errors is correctly specified.\n"
     ]
    }
   ],
   "source": [
    "# as we can see that the p value for longtiude is greater than 0.05 which means we will accept the null hypothesis as they have no correlation\n",
    "# so, we need to construct a new model by removing the column longtiude\n",
    "y=merged_df['free_bikes'] # we are predicting number of total bikes in the given station am using \n",
    "X=merged_df[['number_of_public_transportation', 'number_of_chinese_restaurants', 'empty_slots']]\n",
    "X = sm.add_constant(X) # adding a constant\n",
    "model = sm.OLS(y,X)\n",
    "result = model.fit()\n",
    "print(result.summary())"
   ]
  },
  {
   "cell_type": "markdown",
   "metadata": {
    "tags": []
   },
   "source": [
    "now we can say that as all the values for p are less than p so we can reject the null hypothesis and conclude that these variables(POI) have correlation with the column free bikes.\n",
    "we can interpret the result we got from the above model.\n",
    "1. The first thing is Adj. R-squared which The model explains about 17.9% of the variance in the number of free bikes (R-squared: 0.184), which is moderate. It suggests that while the included predictors have some influence, there are likely other factors affecting free bike availability.\n",
    "2. now let's interpret the coefficient of each variables:\n",
    "     2.1 for number_of_public_transportation (Coefficient: 0.2741): For each additional point of public transportation, the number of free bikes increases by approximately 0.2741. Contrary to initial expectations, the model shows a positive correlation between the number of public transportation options and the number of free bikes. This might suggest that areas with more public transport options could also be areas where bikes are frequently returned, or the total number of bikes in the bike station might be very high\n",
    "     2.2 for number_of_chinese_restaurants (Coefficient: 0.2554): For each additional Chinese restaurant, the number of free bikes increases by approximately 0.2554. Similar to public transportation, the positive coefficient for the number of Chinese restaurants indicates that stations near more dining options tend to have more free bikes. This could be due to a variety of reasons, such as these areas being popular destinations where bikes are often returned or areas with a different pattern of bike usage.\n",
    "     2.3 for empty_slots (Coefficient: -0.3277): The number of empty slots is negatively associated with the number of free bikes. For each additional empty slot, the number of free bikes decreases by approximately 0.3277. This relationship aligns more closely with expectations\n"
   ]
  },
  {
   "cell_type": "markdown",
   "metadata": {},
   "source": [
    "# Stretch"
   ]
  },
  {
   "cell_type": "markdown",
   "metadata": {},
   "source": [
    "How can you turn the regression model into a classification model?"
   ]
  },
  {
   "cell_type": "markdown",
   "metadata": {},
   "source": [
    "In this project, we aim to construct a regression model, where we predicted the continuous value of 'free bikes' at various bike stations, we can transform the problem of predicting the continuous value of 'free bikes' at bike stations (regression) into categorizing stations based on bike availability (classification). my plan to turn the regression model into a classification model is based on ocategorizing bike stations based on bike availability into discrete classes such as 'Low Availability' (less than 5 free bikes), 'Medium Availability' (5 to 15 free bikes), and 'High Availability' (more than 15 free bikes). These categories will be determined based on the data distribution of 'free bikes'. For the classification model, as we did with that of regression model, we will continue to use key features from our regression model, such as number_of_public_transportation, number_of_chinese_restaurants and geographical coordinates. my choice of models is multinomial regression as i am getting more than two outcomes, if it were binary response like only if low or high exist, i will probably use logistic regression. After I am done with constructing model, i will use validation tools inorder to evaluat metrics such as accuracy, precision. This transformation is aimed at providing more actionable insights for operational planning in bike-sharing systems, such as efficient bike redistribution and predicting demand surges. While this approach simplifies the continuous nature of bike availability into categories, it offers a more practical perspective for operational decision-making and strategic planning in urban bike-sharing scenarios."
   ]
  },
  {
   "cell_type": "code",
   "execution_count": null,
   "metadata": {},
   "outputs": [],
   "source": []
  }
 ],
 "metadata": {
  "kernelspec": {
   "display_name": "Python 3 (ipykernel)",
   "language": "python",
   "name": "python3"
  },
  "language_info": {
   "codemirror_mode": {
    "name": "ipython",
    "version": 3
   },
   "file_extension": ".py",
   "mimetype": "text/x-python",
   "name": "python",
   "nbconvert_exporter": "python",
   "pygments_lexer": "ipython3",
   "version": "3.11.5"
  }
 },
 "nbformat": 4,
 "nbformat_minor": 4
}
