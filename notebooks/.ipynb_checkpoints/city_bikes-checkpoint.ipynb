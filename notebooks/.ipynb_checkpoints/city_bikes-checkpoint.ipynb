{
 "cells": [
  {
   "cell_type": "markdown",
   "metadata": {},
   "source": [
    "# CityBikes"
   ]
  },
  {
   "cell_type": "markdown",
   "metadata": {},
   "source": [
    "Send a request to CityBikes for the city of your choice. "
   ]
  },
  {
   "cell_type": "code",
   "execution_count": 1,
   "metadata": {},
   "outputs": [],
   "source": [
    "import requests\n",
    "response = requests.get(\"http://api.citybik.es/v2/networks/citi-bike-nyc\")\n"
   ]
  },
  {
   "cell_type": "markdown",
   "metadata": {},
   "source": [
    "Parse through the response to get the details you want for the bike stations in that city (latitude, longitude, number of bikes). "
   ]
  },
  {
   "cell_type": "code",
   "execution_count": 4,
   "metadata": {},
   "outputs": [],
   "source": [
    "import pandas as pd\n",
    "data = response.json()\n",
    "bike_stations = data['network']['stations']\n",
    "bike_stations = pd.json_normalize(bike_stations)\n",
    "bike_station = bike_stations[['id', 'empty_slots', 'free_bikes', 'latitude', 'longitude']].copy()\n"
   ]
  },
  {
   "cell_type": "markdown",
   "metadata": {},
   "source": [
    "Put your parsed results into a DataFrame."
   ]
  },
  {
   "cell_type": "code",
   "execution_count": 5,
   "metadata": {},
   "outputs": [
    {
     "data": {
      "text/html": [
       "<div>\n",
       "<style scoped>\n",
       "    .dataframe tbody tr th:only-of-type {\n",
       "        vertical-align: middle;\n",
       "    }\n",
       "\n",
       "    .dataframe tbody tr th {\n",
       "        vertical-align: top;\n",
       "    }\n",
       "\n",
       "    .dataframe thead th {\n",
       "        text-align: right;\n",
       "    }\n",
       "</style>\n",
       "<table border=\"1\" class=\"dataframe\">\n",
       "  <thead>\n",
       "    <tr style=\"text-align: right;\">\n",
       "      <th></th>\n",
       "      <th>id</th>\n",
       "      <th>empty_slots</th>\n",
       "      <th>free_bikes</th>\n",
       "      <th>latitude</th>\n",
       "      <th>longitude</th>\n",
       "    </tr>\n",
       "  </thead>\n",
       "  <tbody>\n",
       "    <tr>\n",
       "      <th>0</th>\n",
       "      <td>46a983722ee1f51813a6a3eb6534a6e4</td>\n",
       "      <td>15</td>\n",
       "      <td>9</td>\n",
       "      <td>40.795000</td>\n",
       "      <td>-73.964500</td>\n",
       "    </tr>\n",
       "    <tr>\n",
       "      <th>1</th>\n",
       "      <td>81872dcff5f0e5f1e042aafcc0bab6fd</td>\n",
       "      <td>34</td>\n",
       "      <td>33</td>\n",
       "      <td>40.766741</td>\n",
       "      <td>-73.979069</td>\n",
       "    </tr>\n",
       "    <tr>\n",
       "      <th>2</th>\n",
       "      <td>fdb4831d3335a9aea380117ea4f4b81a</td>\n",
       "      <td>27</td>\n",
       "      <td>4</td>\n",
       "      <td>40.801694</td>\n",
       "      <td>-73.957145</td>\n",
       "    </tr>\n",
       "    <tr>\n",
       "      <th>3</th>\n",
       "      <td>678fea3bb3afe05788a35750358db726</td>\n",
       "      <td>7</td>\n",
       "      <td>12</td>\n",
       "      <td>40.795508</td>\n",
       "      <td>-73.941606</td>\n",
       "    </tr>\n",
       "    <tr>\n",
       "      <th>4</th>\n",
       "      <td>7ca4ed0b4fba2b2fb259ba84bd43e2ad</td>\n",
       "      <td>5</td>\n",
       "      <td>71</td>\n",
       "      <td>40.750585</td>\n",
       "      <td>-73.994685</td>\n",
       "    </tr>\n",
       "    <tr>\n",
       "      <th>...</th>\n",
       "      <td>...</td>\n",
       "      <td>...</td>\n",
       "      <td>...</td>\n",
       "      <td>...</td>\n",
       "      <td>...</td>\n",
       "    </tr>\n",
       "    <tr>\n",
       "      <th>2163</th>\n",
       "      <td>55bfc3325fe2553102257dbb4578054e</td>\n",
       "      <td>31</td>\n",
       "      <td>0</td>\n",
       "      <td>40.675832</td>\n",
       "      <td>-73.963308</td>\n",
       "    </tr>\n",
       "    <tr>\n",
       "      <th>2164</th>\n",
       "      <td>1a498b2ed244716550b887381fb54777</td>\n",
       "      <td>32</td>\n",
       "      <td>6</td>\n",
       "      <td>40.748036</td>\n",
       "      <td>-73.946705</td>\n",
       "    </tr>\n",
       "    <tr>\n",
       "      <th>2165</th>\n",
       "      <td>21b2048af20db72928025724c1b48bee</td>\n",
       "      <td>19</td>\n",
       "      <td>6</td>\n",
       "      <td>40.741130</td>\n",
       "      <td>-73.942518</td>\n",
       "    </tr>\n",
       "    <tr>\n",
       "      <th>2166</th>\n",
       "      <td>955c5f3727f4313d7c3fe28eb039f7b4</td>\n",
       "      <td>20</td>\n",
       "      <td>5</td>\n",
       "      <td>40.740288</td>\n",
       "      <td>-73.960697</td>\n",
       "    </tr>\n",
       "    <tr>\n",
       "      <th>2167</th>\n",
       "      <td>b7f0ddf33c64476f859253778189bc66</td>\n",
       "      <td>19</td>\n",
       "      <td>1</td>\n",
       "      <td>40.714420</td>\n",
       "      <td>-73.900970</td>\n",
       "    </tr>\n",
       "  </tbody>\n",
       "</table>\n",
       "<p>2168 rows × 5 columns</p>\n",
       "</div>"
      ],
      "text/plain": [
       "                                    id  empty_slots  free_bikes   latitude  \\\n",
       "0     46a983722ee1f51813a6a3eb6534a6e4           15           9  40.795000   \n",
       "1     81872dcff5f0e5f1e042aafcc0bab6fd           34          33  40.766741   \n",
       "2     fdb4831d3335a9aea380117ea4f4b81a           27           4  40.801694   \n",
       "3     678fea3bb3afe05788a35750358db726            7          12  40.795508   \n",
       "4     7ca4ed0b4fba2b2fb259ba84bd43e2ad            5          71  40.750585   \n",
       "...                                ...          ...         ...        ...   \n",
       "2163  55bfc3325fe2553102257dbb4578054e           31           0  40.675832   \n",
       "2164  1a498b2ed244716550b887381fb54777           32           6  40.748036   \n",
       "2165  21b2048af20db72928025724c1b48bee           19           6  40.741130   \n",
       "2166  955c5f3727f4313d7c3fe28eb039f7b4           20           5  40.740288   \n",
       "2167  b7f0ddf33c64476f859253778189bc66           19           1  40.714420   \n",
       "\n",
       "      longitude  \n",
       "0    -73.964500  \n",
       "1    -73.979069  \n",
       "2    -73.957145  \n",
       "3    -73.941606  \n",
       "4    -73.994685  \n",
       "...         ...  \n",
       "2163 -73.963308  \n",
       "2164 -73.946705  \n",
       "2165 -73.942518  \n",
       "2166 -73.960697  \n",
       "2167 -73.900970  \n",
       "\n",
       "[2168 rows x 5 columns]"
      ]
     },
     "execution_count": 5,
     "metadata": {},
     "output_type": "execute_result"
    }
   ],
   "source": [
    "bike_station"
   ]
  }
 ],
 "metadata": {
  "kernelspec": {
   "display_name": "Python 3 (ipykernel)",
   "language": "python",
   "name": "python3"
  },
  "language_info": {
   "codemirror_mode": {
    "name": "ipython",
    "version": 3
   },
   "file_extension": ".py",
   "mimetype": "text/x-python",
   "name": "python",
   "nbconvert_exporter": "python",
   "pygments_lexer": "ipython3",
   "version": "3.11.5"
  }
 },
 "nbformat": 4,
 "nbformat_minor": 4
}
