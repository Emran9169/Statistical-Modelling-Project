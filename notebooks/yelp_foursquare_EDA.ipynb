{
 "cells": [
  {
   "cell_type": "code",
   "execution_count": null,
   "metadata": {},
   "outputs": [],
   "source": [
    "# imports"
   ]
  },
  {
   "cell_type": "markdown",
   "metadata": {},
   "source": [
    "# Foursquare"
   ]
  },
  {
   "cell_type": "markdown",
   "metadata": {},
   "source": [
    "Send a request to Foursquare with a small radius (1000m) for all the bike stations in your city of choice. "
   ]
  },
  {
   "cell_type": "code",
   "execution_count": 1,
   "metadata": {},
   "outputs": [],
   "source": [
    "# the code provided here isnt a request for foursquare for all bike station in city rather the bike station code inorder for the request to get a fourthsquare work and you will get information about\n",
    "#sending a request to foursquare to extarct data in the following two spaces\n",
    "import requests\n",
    "import pandas as pd\n",
    "import os\n",
    "\n",
    "# code for fetching bike stations data\n",
    "response = requests.get(\"http://api.citybik.es/v2/networks/citi-bike-nyc\")\n",
    "data = response.json()\n",
    "\n",
    "bike_stations = data['network']['stations']\n",
    "bike_stations = pd.json_normalize(bike_stations)"
   ]
  },
  {
   "cell_type": "markdown",
   "metadata": {},
   "source": [
    "Parse through the response to get the POI (such as restaurants, bars, etc) details you want (ratings, name, location, etc)"
   ]
  },
  {
   "cell_type": "code",
   "execution_count": 2,
   "metadata": {},
   "outputs": [],
   "source": [
    "# Function to get number of POI by using the variable venue from Foursquare API\n",
    "def get_venues_fs(latitude, longitude, radius, api_key, category_id, limit=50):\n",
    "    url = f'https://api.foursquare.com/v3/places/search?ll={latitude},{longitude}&radius={radius}&categories={category_id}&limit={limit}'\n",
    "    headers = {'Authorization': api_key}\n",
    "    response = requests.get(url, headers=headers)\n",
    "    if response.status_code == 200:\n",
    "        venues = response.json()['results']\n",
    "        return len(venues)\n",
    "    else:\n",
    "        return 0"
   ]
  },
  {
   "cell_type": "markdown",
   "metadata": {},
   "source": [
    "Put your parsed results into a DataFrame"
   ]
  },
  {
   "cell_type": "code",
   "execution_count": 5,
   "metadata": {},
   "outputs": [
    {
     "data": {
      "text/html": [
       "<div>\n",
       "<style scoped>\n",
       "    .dataframe tbody tr th:only-of-type {\n",
       "        vertical-align: middle;\n",
       "    }\n",
       "\n",
       "    .dataframe tbody tr th {\n",
       "        vertical-align: top;\n",
       "    }\n",
       "\n",
       "    .dataframe thead th {\n",
       "        text-align: right;\n",
       "    }\n",
       "</style>\n",
       "<table border=\"1\" class=\"dataframe\">\n",
       "  <thead>\n",
       "    <tr style=\"text-align: right;\">\n",
       "      <th></th>\n",
       "      <th>bike_station_id</th>\n",
       "      <th>number_of_public_transportation</th>\n",
       "      <th>number_of_chinese_restaurants</th>\n",
       "      <th>number_of_sport_recreation</th>\n",
       "    </tr>\n",
       "  </thead>\n",
       "  <tbody>\n",
       "    <tr>\n",
       "      <th>0</th>\n",
       "      <td>46a983722ee1f51813a6a3eb6534a6e4</td>\n",
       "      <td>14</td>\n",
       "      <td>22</td>\n",
       "      <td>50</td>\n",
       "    </tr>\n",
       "    <tr>\n",
       "      <th>1</th>\n",
       "      <td>81872dcff5f0e5f1e042aafcc0bab6fd</td>\n",
       "      <td>37</td>\n",
       "      <td>25</td>\n",
       "      <td>42</td>\n",
       "    </tr>\n",
       "    <tr>\n",
       "      <th>2</th>\n",
       "      <td>fdb4831d3335a9aea380117ea4f4b81a</td>\n",
       "      <td>12</td>\n",
       "      <td>21</td>\n",
       "      <td>43</td>\n",
       "    </tr>\n",
       "    <tr>\n",
       "      <th>3</th>\n",
       "      <td>678fea3bb3afe05788a35750358db726</td>\n",
       "      <td>18</td>\n",
       "      <td>19</td>\n",
       "      <td>32</td>\n",
       "    </tr>\n",
       "    <tr>\n",
       "      <th>4</th>\n",
       "      <td>7ca4ed0b4fba2b2fb259ba84bd43e2ad</td>\n",
       "      <td>45</td>\n",
       "      <td>35</td>\n",
       "      <td>50</td>\n",
       "    </tr>\n",
       "    <tr>\n",
       "      <th>...</th>\n",
       "      <td>...</td>\n",
       "      <td>...</td>\n",
       "      <td>...</td>\n",
       "      <td>...</td>\n",
       "    </tr>\n",
       "    <tr>\n",
       "      <th>495</th>\n",
       "      <td>832bea3175d9d41c33795a52a1e74647</td>\n",
       "      <td>3</td>\n",
       "      <td>9</td>\n",
       "      <td>38</td>\n",
       "    </tr>\n",
       "    <tr>\n",
       "      <th>496</th>\n",
       "      <td>0243a8e61a86e32894867c42ebd883e6</td>\n",
       "      <td>6</td>\n",
       "      <td>9</td>\n",
       "      <td>30</td>\n",
       "    </tr>\n",
       "    <tr>\n",
       "      <th>497</th>\n",
       "      <td>e5a29af3b9346d4415f00946adafbd18</td>\n",
       "      <td>3</td>\n",
       "      <td>11</td>\n",
       "      <td>48</td>\n",
       "    </tr>\n",
       "    <tr>\n",
       "      <th>498</th>\n",
       "      <td>b5c4ad1cbac234b67785a1ab920eb044</td>\n",
       "      <td>4</td>\n",
       "      <td>6</td>\n",
       "      <td>16</td>\n",
       "    </tr>\n",
       "    <tr>\n",
       "      <th>499</th>\n",
       "      <td>5af807984575b67985bd22363163ce9e</td>\n",
       "      <td>14</td>\n",
       "      <td>13</td>\n",
       "      <td>25</td>\n",
       "    </tr>\n",
       "  </tbody>\n",
       "</table>\n",
       "<p>500 rows × 4 columns</p>\n",
       "</div>"
      ],
      "text/plain": [
       "                      bike_station_id  number_of_public_transportation  \\\n",
       "0    46a983722ee1f51813a6a3eb6534a6e4                               14   \n",
       "1    81872dcff5f0e5f1e042aafcc0bab6fd                               37   \n",
       "2    fdb4831d3335a9aea380117ea4f4b81a                               12   \n",
       "3    678fea3bb3afe05788a35750358db726                               18   \n",
       "4    7ca4ed0b4fba2b2fb259ba84bd43e2ad                               45   \n",
       "..                                ...                              ...   \n",
       "495  832bea3175d9d41c33795a52a1e74647                                3   \n",
       "496  0243a8e61a86e32894867c42ebd883e6                                6   \n",
       "497  e5a29af3b9346d4415f00946adafbd18                                3   \n",
       "498  b5c4ad1cbac234b67785a1ab920eb044                                4   \n",
       "499  5af807984575b67985bd22363163ce9e                               14   \n",
       "\n",
       "     number_of_chinese_restaurants  number_of_sport_recreation  \n",
       "0                               22                          50  \n",
       "1                               25                          42  \n",
       "2                               21                          43  \n",
       "3                               19                          32  \n",
       "4                               35                          50  \n",
       "..                             ...                         ...  \n",
       "495                              9                          38  \n",
       "496                              9                          30  \n",
       "497                             11                          48  \n",
       "498                              6                          16  \n",
       "499                             13                          25  \n",
       "\n",
       "[500 rows x 4 columns]"
      ]
     },
     "execution_count": 5,
     "metadata": {},
     "output_type": "execute_result"
    }
   ],
   "source": [
    "# Here is the important step of the project using the for loop we will extract information for every and each bike stations \n",
    "\n",
    "API_KEY = os.getenv('FOURSQUARE_KEY')  # Set your Foursquare API key using Environment API\n",
    "\n",
    "# Define category IDs for different POIs(point of interest)\n",
    "CATEGORY_PUBLIC_TRANSPORT = 19051 \n",
    "CATEGORY_CHINESE_RESTAURANT = 13099\n",
    "CATEGORY_SPORT_RECREATION = 18021\n",
    "\n",
    "# New DataFrame for POIs\n",
    "poi_data = pd.DataFrame(columns=['bike_station_id', 'number_of_public_transportation', 'number_of_restaurants', 'number_of_sport_recreation'])\n",
    "\n",
    "# Iterate over the dataset and apply the function\n",
    "\n",
    "all_data = [] # List to store data from each iteration\n",
    "\n",
    "for index, row in bike_stations.head(500).iterrows():    # to make my dataset specific and not to waste time for getting data for each 2167 bikes am gonna choose only 750, that is why i put head(750)\n",
    "    public_transport = get_venues_fs(row['latitude'], row['longitude'], 1000, API_KEY, CATEGORY_PUBLIC_TRANSPORT)\n",
    "    chinese_restaurants = get_venues_fs(row['latitude'], row['longitude'], 1000, API_KEY, CATEGORY_CHINESE_RESTAURANT)\n",
    "    sport_recreation = get_venues_fs(row['latitude'], row['longitude'], 1000, API_KEY, CATEGORY_SPORT_RECREATION)\n",
    "    all_data.append({\n",
    "        'bike_station_id': row['id'],\n",
    "        'number_of_public_transportation': public_transport,\n",
    "        'number_of_chinese_restaurants': chinese_restaurants,\n",
    "        'number_of_sport_recreation': sport_recreation\n",
    "    })\n",
    "    \n",
    "    \n",
    "\n",
    "# Concatenate all the temporary DataFrames\n",
    "poi_data = pd.DataFrame(all_data)\n",
    "\n",
    "# Print the final DataFrame\n",
    "poi_data"
   ]
  },
  {
   "cell_type": "markdown",
   "metadata": {},
   "source": [
    "# Yelp"
   ]
  },
  {
   "cell_type": "markdown",
   "metadata": {},
   "source": [
    "Send a request to Yelp with a small radius (1000m) for all the bike stations in your city of choice. "
   ]
  },
  {
   "cell_type": "code",
   "execution_count": 13,
   "metadata": {},
   "outputs": [],
   "source": [
    "# Here is also the same thing like the above\n",
    "import requests\n",
    "import pandas as pd"
   ]
  },
  {
   "cell_type": "markdown",
   "metadata": {},
   "source": [
    "Parse through the response to get the POI (such as restaurants, bars, etc) details you want (ratings, name, location, etc)"
   ]
  },
  {
   "cell_type": "code",
   "execution_count": 14,
   "metadata": {},
   "outputs": [],
   "source": [
    "# Function to get number of POI from Yelp API\n",
    "def get_yelp_data_count(latitude, longitude, api_key, categories, radius=1000, limit=50):\n",
    "    url = 'https://api.yelp.com/v3/businesses/search'\n",
    "    headers = {'Authorization': f'Bearer {api_key}'}\n",
    "    params = {\n",
    "        'latitude': latitude,\n",
    "        'longitude': longitude,\n",
    "        'radius': radius,\n",
    "        'categories': categories,\n",
    "        'limit': limit\n",
    "    }\n",
    "    response = requests.get(url, headers=headers, params=params)\n",
    "    if response.status_code != 200:\n",
    "        print(f\"Error with Yelp API call: {response.status_code}\")\n",
    "        return 0\n",
    "    else:\n",
    "        return len(response.json()['businesses'])"
   ]
  },
  {
   "cell_type": "markdown",
   "metadata": {},
   "source": [
    "Put your parsed results into a DataFrame"
   ]
  },
  {
   "cell_type": "code",
   "execution_count": 17,
   "metadata": {},
   "outputs": [
    {
     "data": {
      "text/html": [
       "<div>\n",
       "<style scoped>\n",
       "    .dataframe tbody tr th:only-of-type {\n",
       "        vertical-align: middle;\n",
       "    }\n",
       "\n",
       "    .dataframe tbody tr th {\n",
       "        vertical-align: top;\n",
       "    }\n",
       "\n",
       "    .dataframe thead th {\n",
       "        text-align: right;\n",
       "    }\n",
       "</style>\n",
       "<table border=\"1\" class=\"dataframe\">\n",
       "  <thead>\n",
       "    <tr style=\"text-align: right;\">\n",
       "      <th></th>\n",
       "      <th>bike_station_id</th>\n",
       "      <th>chinese_count</th>\n",
       "    </tr>\n",
       "  </thead>\n",
       "  <tbody>\n",
       "    <tr>\n",
       "      <th>0</th>\n",
       "      <td>46a983722ee1f51813a6a3eb6534a6e4</td>\n",
       "      <td>32</td>\n",
       "    </tr>\n",
       "    <tr>\n",
       "      <th>1</th>\n",
       "      <td>81872dcff5f0e5f1e042aafcc0bab6fd</td>\n",
       "      <td>46</td>\n",
       "    </tr>\n",
       "    <tr>\n",
       "      <th>2</th>\n",
       "      <td>fdb4831d3335a9aea380117ea4f4b81a</td>\n",
       "      <td>30</td>\n",
       "    </tr>\n",
       "    <tr>\n",
       "      <th>3</th>\n",
       "      <td>678fea3bb3afe05788a35750358db726</td>\n",
       "      <td>36</td>\n",
       "    </tr>\n",
       "    <tr>\n",
       "      <th>4</th>\n",
       "      <td>7ca4ed0b4fba2b2fb259ba84bd43e2ad</td>\n",
       "      <td>50</td>\n",
       "    </tr>\n",
       "    <tr>\n",
       "      <th>...</th>\n",
       "      <td>...</td>\n",
       "      <td>...</td>\n",
       "    </tr>\n",
       "    <tr>\n",
       "      <th>495</th>\n",
       "      <td>832bea3175d9d41c33795a52a1e74647</td>\n",
       "      <td>16</td>\n",
       "    </tr>\n",
       "    <tr>\n",
       "      <th>496</th>\n",
       "      <td>0243a8e61a86e32894867c42ebd883e6</td>\n",
       "      <td>17</td>\n",
       "    </tr>\n",
       "    <tr>\n",
       "      <th>497</th>\n",
       "      <td>e5a29af3b9346d4415f00946adafbd18</td>\n",
       "      <td>15</td>\n",
       "    </tr>\n",
       "    <tr>\n",
       "      <th>498</th>\n",
       "      <td>b5c4ad1cbac234b67785a1ab920eb044</td>\n",
       "      <td>13</td>\n",
       "    </tr>\n",
       "    <tr>\n",
       "      <th>499</th>\n",
       "      <td>5af807984575b67985bd22363163ce9e</td>\n",
       "      <td>21</td>\n",
       "    </tr>\n",
       "  </tbody>\n",
       "</table>\n",
       "<p>500 rows × 2 columns</p>\n",
       "</div>"
      ],
      "text/plain": [
       "                      bike_station_id  chinese_count\n",
       "0    46a983722ee1f51813a6a3eb6534a6e4             32\n",
       "1    81872dcff5f0e5f1e042aafcc0bab6fd             46\n",
       "2    fdb4831d3335a9aea380117ea4f4b81a             30\n",
       "3    678fea3bb3afe05788a35750358db726             36\n",
       "4    7ca4ed0b4fba2b2fb259ba84bd43e2ad             50\n",
       "..                                ...            ...\n",
       "495  832bea3175d9d41c33795a52a1e74647             16\n",
       "496  0243a8e61a86e32894867c42ebd883e6             17\n",
       "497  e5a29af3b9346d4415f00946adafbd18             15\n",
       "498  b5c4ad1cbac234b67785a1ab920eb044             13\n",
       "499  5af807984575b67985bd22363163ce9e             21\n",
       "\n",
       "[500 rows x 2 columns]"
      ]
     },
     "execution_count": 17,
     "metadata": {},
     "output_type": "execute_result"
    }
   ],
   "source": [
    "# main part of the code\n",
    "API_KEY_YELP = 'xINzSmFfZorhze8u7Jx_WxaDj_KArxluNYvAnD0tW5fb1KeSY3IXK5QCVdUkI1ty1E69MtyoRwhltNJVgJOq4ZRqO-LLpEcoVelJUFgi0xn1hJCYS9LAO7FiWBV_ZXYx' # Set your Yelp API key\n",
    "\n",
    "# DataFrame to store the counts\n",
    "yelp_data_counts = []\n",
    "\n",
    "# Iterate over bike stations and fetch Yelp data for Chinese category\n",
    "for index, row in bike_stations.head(500).iterrows():  # the maximum numbeer i can call in Yelp API is 500 that is why i limit the number to 500 and to get the same number as that of foursquare\n",
    "    chinese_count = get_yelp_data_count(row['latitude'], row['longitude'], API_KEY_YELP, 'chinese')\n",
    "    yelp_data_counts.append({\n",
    "        'bike_station_id': row['id'],\n",
    "        'chinese_count': chinese_count\n",
    "    })\n",
    "\n",
    "# Create a DataFrame from the collected counts\n",
    "yelp_counts_df = pd.DataFrame(yelp_data_counts)\n",
    "\n",
    "# Displaying the DataFrame\n",
    "yelp_counts_df\n"
   ]
  },
  {
   "cell_type": "markdown",
   "metadata": {},
   "source": [
    "# Comparing Results"
   ]
  },
  {
   "cell_type": "markdown",
   "metadata": {},
   "source": [
    "Which API provided you with more complete data? Provide an explanation. "
   ]
  },
  {
   "cell_type": "markdown",
   "metadata": {},
   "source": [
    "In evaluating the Foursquare and Yelp APIs for retrieving Points of Interest (POIs), particularly Chinese restaurants, I found notable differences in data coverage and specificity. My analysis was guided by the goal of obtaining detailed information on Chinese restaurants around specific bike stations. The Foursquare API demonstrated a high degree of versatility in data retrieval. It allowed for layered querying, ranging from broad categories to highly specific ones. For example, the API provided the flexibility to search for any restaurant, then narrow down to Asian restaurant, further to Chinese-specific restaurant, and even to individual restaurant names if desired, while, the Yelp API appeared to offer two distinct types of data retrieval: broad overviews or detailed information on specific venues. The middle ground, which is often useful for analysis, seemed less accessible. In comparing the Foursquare and Yelp APIs, I focused on the number and detail of Chinese restaurants as a common category across both platforms and i was able to compare them and i can see that thery have difference interms of the number of chinese for restaurants and suprisingly in my case the number of the average number of chinese restaurant that i got from foursquare and yelp is 18 and 25 respectively, which is strange, so this shows that it is not always the case where FSQ provide a lot of information than yelp, while for the categories unique to each API, Foursquare's data on public transportation and sports/recreation venues around bike stations offers valuable insights for users looking for connectivity and leisure activities. In general FSQ allowed for detailed explorations of local amenities, which is essential for users requiring in-depth analysis of nearby POI offerings. Yelp, while offering valuable insights, had limitations in the flexibility of data although i got more data in the case of chinese restaurant, which could hinder detailed analyses."
   ]
  },
  {
   "cell_type": "markdown",
   "metadata": {},
   "source": [
    "Get the top 10 restaurants according to their rating"
   ]
  },
  {
   "cell_type": "markdown",
   "metadata": {},
   "source": [
    "### As you can see from my data rating was not my topic, so i can't get top 10 restaurant accordinng to their rating. but i will provide below top 10 bike station with a lot of number of chinese restaurant"
   ]
  },
  {
   "cell_type": "code",
   "execution_count": 25,
   "metadata": {
    "tags": []
   },
   "outputs": [
    {
     "data": {
      "text/html": [
       "<div>\n",
       "<style scoped>\n",
       "    .dataframe tbody tr th:only-of-type {\n",
       "        vertical-align: middle;\n",
       "    }\n",
       "\n",
       "    .dataframe tbody tr th {\n",
       "        vertical-align: top;\n",
       "    }\n",
       "\n",
       "    .dataframe thead th {\n",
       "        text-align: right;\n",
       "    }\n",
       "</style>\n",
       "<table border=\"1\" class=\"dataframe\">\n",
       "  <thead>\n",
       "    <tr style=\"text-align: right;\">\n",
       "      <th></th>\n",
       "      <th>bike_station_id</th>\n",
       "      <th>number_of_chinese_restaurants</th>\n",
       "    </tr>\n",
       "  </thead>\n",
       "  <tbody>\n",
       "    <tr>\n",
       "      <th>393</th>\n",
       "      <td>fdf85ee78d2b08da8702caf317743a25</td>\n",
       "      <td>50</td>\n",
       "    </tr>\n",
       "    <tr>\n",
       "      <th>379</th>\n",
       "      <td>d011df899229420210406a4c7382ae43</td>\n",
       "      <td>50</td>\n",
       "    </tr>\n",
       "    <tr>\n",
       "      <th>243</th>\n",
       "      <td>12aa7924b713843d73c4432e4e35fa39</td>\n",
       "      <td>50</td>\n",
       "    </tr>\n",
       "    <tr>\n",
       "      <th>61</th>\n",
       "      <td>506ef3941933df4d38b00a3ae3fae8f2</td>\n",
       "      <td>50</td>\n",
       "    </tr>\n",
       "    <tr>\n",
       "      <th>468</th>\n",
       "      <td>aece94aba5628d18ff397efd44cd1b83</td>\n",
       "      <td>50</td>\n",
       "    </tr>\n",
       "    <tr>\n",
       "      <th>373</th>\n",
       "      <td>88baf784aeeca189b3e6db060603a440</td>\n",
       "      <td>50</td>\n",
       "    </tr>\n",
       "    <tr>\n",
       "      <th>273</th>\n",
       "      <td>902236f7c08be690cda3a4e4a48ea005</td>\n",
       "      <td>50</td>\n",
       "    </tr>\n",
       "    <tr>\n",
       "      <th>476</th>\n",
       "      <td>dc49cf8ba087c4d478091d789e37f632</td>\n",
       "      <td>50</td>\n",
       "    </tr>\n",
       "    <tr>\n",
       "      <th>450</th>\n",
       "      <td>324b7111c8f0114b7fe0e5bed4f56a2a</td>\n",
       "      <td>50</td>\n",
       "    </tr>\n",
       "    <tr>\n",
       "      <th>342</th>\n",
       "      <td>337518644c49baaccf74a42d3e1ce0b7</td>\n",
       "      <td>50</td>\n",
       "    </tr>\n",
       "  </tbody>\n",
       "</table>\n",
       "</div>"
      ],
      "text/plain": [
       "                      bike_station_id  number_of_chinese_restaurants\n",
       "393  fdf85ee78d2b08da8702caf317743a25                             50\n",
       "379  d011df899229420210406a4c7382ae43                             50\n",
       "243  12aa7924b713843d73c4432e4e35fa39                             50\n",
       "61   506ef3941933df4d38b00a3ae3fae8f2                             50\n",
       "468  aece94aba5628d18ff397efd44cd1b83                             50\n",
       "373  88baf784aeeca189b3e6db060603a440                             50\n",
       "273  902236f7c08be690cda3a4e4a48ea005                             50\n",
       "476  dc49cf8ba087c4d478091d789e37f632                             50\n",
       "450  324b7111c8f0114b7fe0e5bed4f56a2a                             50\n",
       "342  337518644c49baaccf74a42d3e1ce0b7                             50"
      ]
     },
     "execution_count": 25,
     "metadata": {},
     "output_type": "execute_result"
    }
   ],
   "source": [
    "poi_data[['bike_station_id', 'number_of_chinese_restaurants']].sort_values(by='number_of_chinese_restaurants', ascending=False).head(10)"
   ]
  },
  {
   "cell_type": "code",
   "execution_count": 28,
   "metadata": {
    "tags": []
   },
   "outputs": [],
   "source": [
    "poi_data.to_csv('Foursquare.csv', index=False)# i am saving in excel this file because i want to access it in the joining parts of the assignmnt and in building model, the same for yelp also."
   ]
  },
  {
   "cell_type": "code",
   "execution_count": 29,
   "metadata": {
    "tags": []
   },
   "outputs": [],
   "source": [
    "yelp_counts_df.to_csv('yelp.csv', index=False)"
   ]
  }
 ],
 "metadata": {
  "kernelspec": {
   "display_name": "Python 3 (ipykernel)",
   "language": "python",
   "name": "python3"
  },
  "language_info": {
   "codemirror_mode": {
    "name": "ipython",
    "version": 3
   },
   "file_extension": ".py",
   "mimetype": "text/x-python",
   "name": "python",
   "nbconvert_exporter": "python",
   "pygments_lexer": "ipython3",
   "version": "3.11.5"
  }
 },
 "nbformat": 4,
 "nbformat_minor": 4
}
